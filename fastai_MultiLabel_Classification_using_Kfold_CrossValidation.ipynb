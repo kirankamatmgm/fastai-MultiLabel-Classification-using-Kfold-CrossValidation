{
  "nbformat": 4,
  "nbformat_minor": 0,
  "metadata": {
    "kernelspec": {
      "display_name": "Python 3",
      "language": "python",
      "name": "python3"
    },
    "language_info": {
      "codemirror_mode": {
        "name": "ipython",
        "version": 3
      },
      "file_extension": ".py",
      "mimetype": "text/x-python",
      "name": "python",
      "nbconvert_exporter": "python",
      "pygments_lexer": "ipython3",
      "version": "3.7.3"
    },
    "colab": {
      "name": "fastai_MultiLabel_Classification_using Kfold_CrossValidation.ipynb",
      "provenance": [],
      "collapsed_sections": []
    }
  },
  "cells": [
    {
      "cell_type": "markdown",
      "metadata": {
        "id": "T1CHP_yEZKdR",
        "colab_type": "text"
      },
      "source": [
        "# fastai MultiLabel Classification using Kfold Cross Validation"
      ]
    },
    {
      "cell_type": "markdown",
      "metadata": {
        "id": "G2nnaFavZlMz",
        "colab_type": "text"
      },
      "source": [
        "The problem I have considered is Multi Label classification. In addition to having multiple labels in each image, the other challenge in this problem is the existence of rare classes and combinations of different classes. So in this situation normal split or random split doesnt work because you can end up putting rare cases in the validation set and your model will never learn about them. The stratification present in the scikit-learn is also not equipped to deal with multilabel targets. "
      ]
    },
    {
      "cell_type": "markdown",
      "metadata": {
        "id": "yYqPaEJaF6eI",
        "colab_type": "text"
      },
      "source": [
        "I have specifically choosen this problem because we may learn some techniques on the way, which we otherwise would not have thought of.\n",
        "\n",
        "**There may be better or easy way of doing kfold cross validation but I have done it keeping in mind how to implement using fastai**, so if you know some better way so please mail or tweet the idea, i will try to implement and give you credit."
      ]
    },
    {
      "cell_type": "markdown",
      "metadata": {
        "id": "7eowdYfwGOH7",
        "colab_type": "text"
      },
      "source": [
        "## Install all the necessary libraries\n",
        "\n",
        "I am using fastai2 so import that. \n"
      ]
    },
    {
      "cell_type": "code",
      "metadata": {
        "_cell_guid": "79c7e3d0-c299-4dcb-8224-4455121ee9b0",
        "_uuid": "d629ff2d2480ee46fbb7e2d37f6b5fab8052498a",
        "id": "_9Tl_A6iX690",
        "colab_type": "code",
        "colab": {}
      },
      "source": [
        "!pip install -q fastai2"
      ],
      "execution_count": null,
      "outputs": []
    },
    {
      "cell_type": "markdown",
      "metadata": {
        "id": "uQf7VnxBIEUs",
        "colab_type": "text"
      },
      "source": [
        "### Cross Validation"
      ]
    },
    {
      "cell_type": "markdown",
      "metadata": {
        "id": "sOXYWc79IBnT",
        "colab_type": "text"
      },
      "source": [
        "Cross-validation, how I see it, is the idea of minimizing randomness from one split by makings n folds, each fold containing train and validation splits. You train the model on each fold, so you have n models. Then you take average predictions from all models, which supposedly give us more confidence in results.\n",
        "These we will see in following code. I found iterative-stratification package that provides scikit-learn compatible cross validators with stratification for multilabel data."
      ]
    },
    {
      "cell_type": "markdown",
      "metadata": {
        "id": "joIHktRBIzAt",
        "colab_type": "text"
      },
      "source": [
        "**My opinion**: \n",
        "\n",
        "---\n",
        "\n",
        "In my opinion it's more important to make one right split, especially because CV takes n times more to train. Then why did I do it??\n",
        "\n",
        "I wanted to explore classification using cross validation using fastai, which I didn't find many resources to learn. So if I write this blog it may help people.\n",
        "\n",
        "fastai has no cross validation split(may be) in their library to work like other functions they provide. It may be because cross validation takes time, so may be it not that useful.\n",
        "\n",
        "But still in this condition I feel its worth exploring using fastai.\n",
        "\n",
        "\n",
        "\n",
        "\n",
        "\n",
        "\n",
        "\n"
      ]
    },
    {
      "cell_type": "markdown",
      "metadata": {
        "id": "RBljKs3XLyPD",
        "colab_type": "text"
      },
      "source": [
        "so what is **stratification**??\n",
        "\n",
        "The splitting of data into folds may be governed by criteria such as ensuring that each fold has the same proportion of observations with a given categorical value, such as the class outcome value. This is called stratified cross-validation"
      ]
    },
    {
      "cell_type": "code",
      "metadata": {
        "id": "MY8iX-95X696",
        "colab_type": "code",
        "colab": {}
      },
      "source": [
        "!pip install -q iterative-stratification"
      ],
      "execution_count": null,
      "outputs": []
    },
    {
      "cell_type": "code",
      "metadata": {
        "id": "kBMO3zX4X69-",
        "colab_type": "code",
        "colab": {}
      },
      "source": [
        "from fastai2.vision.all import *\n",
        "from iterstrat.ml_stratifiers import MultilabelStratifiedKFold"
      ],
      "execution_count": null,
      "outputs": []
    },
    {
      "cell_type": "markdown",
      "metadata": {
        "id": "N77UNmw8KkFD",
        "colab_type": "text"
      },
      "source": [
        "Here dataset is of Zero to GANs - Human Protein Classification inclass jovian.ml hosted competition"
      ]
    },
    {
      "cell_type": "code",
      "metadata": {
        "id": "xFUaPYzZX6-C",
        "colab_type": "code",
        "colab": {},
        "outputId": "5ac64aa6-9459-4c84-f60b-2658dcbcee73"
      },
      "source": [
        "path = Path('../input/jovian-pytorch-z2g/Human protein atlas')\n",
        "\n",
        "train_df = pd.read_csv(path/'train.csv')\n",
        "\n",
        "train_df['Image'] = train_df['Image'].apply(str) + \".png\"\n",
        "\n",
        "train_df['Image'] = \"../input/jovian-pytorch-z2g/Human protein atlas/train/\" + train_df['Image']\n",
        "\n",
        "train_df.head()"
      ],
      "execution_count": null,
      "outputs": [
        {
          "output_type": "execute_result",
          "data": {
            "text/html": [
              "<div>\n",
              "<style scoped>\n",
              "    .dataframe tbody tr th:only-of-type {\n",
              "        vertical-align: middle;\n",
              "    }\n",
              "\n",
              "    .dataframe tbody tr th {\n",
              "        vertical-align: top;\n",
              "    }\n",
              "\n",
              "    .dataframe thead th {\n",
              "        text-align: right;\n",
              "    }\n",
              "</style>\n",
              "<table border=\"1\" class=\"dataframe\">\n",
              "  <thead>\n",
              "    <tr style=\"text-align: right;\">\n",
              "      <th></th>\n",
              "      <th>Image</th>\n",
              "      <th>Label</th>\n",
              "    </tr>\n",
              "  </thead>\n",
              "  <tbody>\n",
              "    <tr>\n",
              "      <th>0</th>\n",
              "      <td>../input/jovian-pytorch-z2g/Human protein atlas/train/19567.png</td>\n",
              "      <td>9</td>\n",
              "    </tr>\n",
              "    <tr>\n",
              "      <th>1</th>\n",
              "      <td>../input/jovian-pytorch-z2g/Human protein atlas/train/29993.png</td>\n",
              "      <td>6 4</td>\n",
              "    </tr>\n",
              "    <tr>\n",
              "      <th>2</th>\n",
              "      <td>../input/jovian-pytorch-z2g/Human protein atlas/train/17186.png</td>\n",
              "      <td>1 4</td>\n",
              "    </tr>\n",
              "    <tr>\n",
              "      <th>3</th>\n",
              "      <td>../input/jovian-pytorch-z2g/Human protein atlas/train/29600.png</td>\n",
              "      <td>6 2</td>\n",
              "    </tr>\n",
              "    <tr>\n",
              "      <th>4</th>\n",
              "      <td>../input/jovian-pytorch-z2g/Human protein atlas/train/701.png</td>\n",
              "      <td>3 4</td>\n",
              "    </tr>\n",
              "  </tbody>\n",
              "</table>\n",
              "</div>"
            ],
            "text/plain": [
              "                                                             Image Label\n",
              "0  ../input/jovian-pytorch-z2g/Human protein atlas/train/19567.png     9\n",
              "1  ../input/jovian-pytorch-z2g/Human protein atlas/train/29993.png   6 4\n",
              "2  ../input/jovian-pytorch-z2g/Human protein atlas/train/17186.png   1 4\n",
              "3  ../input/jovian-pytorch-z2g/Human protein atlas/train/29600.png   6 2\n",
              "4    ../input/jovian-pytorch-z2g/Human protein atlas/train/701.png   3 4"
            ]
          },
          "metadata": {
            "tags": []
          },
          "execution_count": 4
        }
      ]
    },
    {
      "cell_type": "markdown",
      "metadata": {
        "id": "KlyFT2v2K6eM",
        "colab_type": "text"
      },
      "source": [
        "The method I use here is if we have column called fold and with fold number it would be helpfull to split data using that.\n",
        "\n",
        "fastai has IndexSplitter in datablock api so this would be helpful.\n",
        "\n"
      ]
    },
    {
      "cell_type": "code",
      "metadata": {
        "id": "fMxN5CwaX6-I",
        "colab_type": "code",
        "colab": {},
        "outputId": "ed95259d-beea-42f1-fe9c-4077628dafd7"
      },
      "source": [
        "strat_kfold = MultilabelStratifiedKFold(n_splits=3, random_state=42, shuffle=True)\n",
        "train_df['fold'] = -1\n",
        "for i, (_, test_index) in enumerate(strat_kfold.split(train_df.Image.values, train_df.iloc[:,1:].values)):\n",
        "    train_df.iloc[test_index, -1] = i\n",
        "train_df.head()"
      ],
      "execution_count": null,
      "outputs": [
        {
          "output_type": "stream",
          "text": [
            "/opt/conda/lib/python3.7/site-packages/sklearn/utils/validation.py:71: FutureWarning: Pass shuffle=True, random_state=42 as keyword args. From version 0.25 passing these as positional arguments will result in an error\n",
            "  FutureWarning)\n"
          ],
          "name": "stderr"
        },
        {
          "output_type": "execute_result",
          "data": {
            "text/html": [
              "<div>\n",
              "<style scoped>\n",
              "    .dataframe tbody tr th:only-of-type {\n",
              "        vertical-align: middle;\n",
              "    }\n",
              "\n",
              "    .dataframe tbody tr th {\n",
              "        vertical-align: top;\n",
              "    }\n",
              "\n",
              "    .dataframe thead th {\n",
              "        text-align: right;\n",
              "    }\n",
              "</style>\n",
              "<table border=\"1\" class=\"dataframe\">\n",
              "  <thead>\n",
              "    <tr style=\"text-align: right;\">\n",
              "      <th></th>\n",
              "      <th>Image</th>\n",
              "      <th>Label</th>\n",
              "      <th>fold</th>\n",
              "    </tr>\n",
              "  </thead>\n",
              "  <tbody>\n",
              "    <tr>\n",
              "      <th>0</th>\n",
              "      <td>../input/jovian-pytorch-z2g/Human protein atlas/train/19567.png</td>\n",
              "      <td>9</td>\n",
              "      <td>1</td>\n",
              "    </tr>\n",
              "    <tr>\n",
              "      <th>1</th>\n",
              "      <td>../input/jovian-pytorch-z2g/Human protein atlas/train/29993.png</td>\n",
              "      <td>6 4</td>\n",
              "      <td>0</td>\n",
              "    </tr>\n",
              "    <tr>\n",
              "      <th>2</th>\n",
              "      <td>../input/jovian-pytorch-z2g/Human protein atlas/train/17186.png</td>\n",
              "      <td>1 4</td>\n",
              "      <td>0</td>\n",
              "    </tr>\n",
              "    <tr>\n",
              "      <th>3</th>\n",
              "      <td>../input/jovian-pytorch-z2g/Human protein atlas/train/29600.png</td>\n",
              "      <td>6 2</td>\n",
              "      <td>2</td>\n",
              "    </tr>\n",
              "    <tr>\n",
              "      <th>4</th>\n",
              "      <td>../input/jovian-pytorch-z2g/Human protein atlas/train/701.png</td>\n",
              "      <td>3 4</td>\n",
              "      <td>0</td>\n",
              "    </tr>\n",
              "  </tbody>\n",
              "</table>\n",
              "</div>"
            ],
            "text/plain": [
              "                                                             Image Label  fold\n",
              "0  ../input/jovian-pytorch-z2g/Human protein atlas/train/19567.png     9     1\n",
              "1  ../input/jovian-pytorch-z2g/Human protein atlas/train/29993.png   6 4     0\n",
              "2  ../input/jovian-pytorch-z2g/Human protein atlas/train/17186.png   1 4     0\n",
              "3  ../input/jovian-pytorch-z2g/Human protein atlas/train/29600.png   6 2     2\n",
              "4    ../input/jovian-pytorch-z2g/Human protein atlas/train/701.png   3 4     0"
            ]
          },
          "metadata": {
            "tags": []
          },
          "execution_count": 5
        }
      ]
    },
    {
      "cell_type": "code",
      "metadata": {
        "id": "5_3dUlyhX6-M",
        "colab_type": "code",
        "colab": {},
        "outputId": "976995d6-b148-44b3-99ad-cf03e6bb5ebc"
      },
      "source": [
        "train_df.fold.value_counts().plot.bar();"
      ],
      "execution_count": null,
      "outputs": [
        {
          "output_type": "display_data",
          "data": {
            "image/png": "[encoded data removed]",
            "text/plain": [
              "<Figure size 432x288 with 1 Axes>"
            ]
          },
          "metadata": {
            "tags": [],
            "needs_background": "light"
          }
        }
      ]
    },
    {
      "cell_type": "markdown",
      "metadata": {
        "id": "0gfYtKzXZWns",
        "colab_type": "text"
      },
      "source": [
        "## DataBlock \n",
        "\n",
        "now that data is in dataframe and also folds are also defined for cross validation, we will build dataloaders, for which we will use datablock.\n",
        "\n",
        "If you want to learn how fastai datablock see my blog series [Make code Simple with DataBlock api](https://kirankamath.netlify.app/blog/fastais-datablock-api/)"
      ]
    },
    {
      "cell_type": "markdown",
      "metadata": {
        "id": "bCDiU6I7aR7-",
        "colab_type": "text"
      },
      "source": [
        "we will create a function get_data to create dataloader.\n",
        "\n",
        "get_data uses fold to split data to be used for cross validation using IndexSplitter. \n",
        "for multiLabel problem compared to single only extra thing to be done is to add MultiCategoryBlock in blocks, this is how fastai makes it easy to work."
      ]
    },
    {
      "cell_type": "code",
      "metadata": {
        "id": "XnfqlRbfX6-Q",
        "colab_type": "code",
        "colab": {}
      },
      "source": [
        "def get_data(fold=0, size=224,bs=32):\n",
        "    return DataBlock(blocks=(ImageBlock,MultiCategoryBlock),\n",
        "                       get_x=ColReader(0),\n",
        "                       get_y=ColReader(1, label_delim=' '),\n",
        "                       splitter=IndexSplitter(train_df[train_df.fold == fold].index),\n",
        "                       item_tfms=[FlipItem(p=0.5),Resize(512,method='pad')],\n",
        "                   batch_tfms=[*aug_transforms(size=size,do_flip=True, flip_vert=True, max_rotate=180.0, max_lighting=0.6,max_warp=0.1, p_affine=0.75, p_lighting=0.75,xtra_tfms=[RandomErasing(p=0.5,sh=0.1, min_aspect=0.2,max_count=2)]),Normalize],\n",
        "                      ).dataloaders(train_df, bs=bs)"
      ],
      "execution_count": null,
      "outputs": []
    },
    {
      "cell_type": "markdown",
      "metadata": {
        "id": "ltazLe6EnGtJ",
        "colab_type": "text"
      },
      "source": [
        "## metrics"
      ]
    },
    {
      "cell_type": "markdown",
      "metadata": {
        "id": "ktM1FqjtmbvP",
        "colab_type": "text"
      },
      "source": [
        "Since this is multi label problem normal accuracy function wont work, so we have accuracy_multi. fastai has this which we can directly use in metrics but I wanted to know how that works so took code of it."
      ]
    },
    {
      "cell_type": "code",
      "metadata": {
        "id": "xTpDV64iX6-U",
        "colab_type": "code",
        "colab": {}
      },
      "source": [
        "def accuracy_multi(inp, targ, thresh=0.5, sigmoid=True):\n",
        "    \"Compute accuracy when `inp` and `targ` are the same size.\"\n",
        "    if sigmoid: inp = inp.sigmoid()\n",
        "    return ((inp>thresh)==targ.bool()).float().mean()"
      ],
      "execution_count": null,
      "outputs": []
    },
    {
      "cell_type": "markdown",
      "metadata": {
        "id": "zTDrPEgOm2w3",
        "colab_type": "text"
      },
      "source": [
        "F_score is way of evaluation for this competition so used this."
      ]
    },
    {
      "cell_type": "code",
      "metadata": {
        "id": "8T6SeRiAX6-a",
        "colab_type": "code",
        "colab": {}
      },
      "source": [
        "def F_score(output, label, threshold=0.2, beta=1):\n",
        "    prob = output > threshold\n",
        "    label = label > threshold\n",
        "\n",
        "    TP = (prob & label).sum(1).float()\n",
        "    TN = ((~prob) & (~label)).sum(1).float()\n",
        "    FP = (prob & (~label)).sum(1).float()\n",
        "    FN = ((~prob) & label).sum(1).float()\n",
        "\n",
        "    precision = torch.mean(TP / (TP + FP + 1e-12))\n",
        "    recall = torch.mean(TP / (TP + FN + 1e-12))\n",
        "    F2 = (1 + beta**2) * precision * recall / (beta**2 * precision + recall + 1e-12)\n",
        "    return F2.mean(0)"
      ],
      "execution_count": null,
      "outputs": []
    },
    {
      "cell_type": "markdown",
      "metadata": {
        "id": "KlQ-3KnjnSE-",
        "colab_type": "text"
      },
      "source": [
        "## Gathering test set"
      ]
    },
    {
      "cell_type": "code",
      "metadata": {
        "id": "41zOrkfGX6-l",
        "colab_type": "code",
        "colab": {},
        "outputId": "1f980534-e52c-4ff6-c9d1-7ae38cc9e47f"
      },
      "source": [
        "test_df = pd.read_csv('../input/jovian-pytorch-z2g/submission.csv')\n",
        "tstpng = test_df.copy()\n",
        "tstpng['Image'] = tstpng['Image'].apply(str) + \".png\"\n",
        "tstpng['Image'] = \"../input/jovian-pytorch-z2g/Human protein atlas/test/\" + tstpng['Image']\n",
        "tstpng.head()"
      ],
      "execution_count": null,
      "outputs": [
        {
          "output_type": "execute_result",
          "data": {
            "text/html": [
              "<div>\n",
              "<style scoped>\n",
              "    .dataframe tbody tr th:only-of-type {\n",
              "        vertical-align: middle;\n",
              "    }\n",
              "\n",
              "    .dataframe tbody tr th {\n",
              "        vertical-align: top;\n",
              "    }\n",
              "\n",
              "    .dataframe thead th {\n",
              "        text-align: right;\n",
              "    }\n",
              "</style>\n",
              "<table border=\"1\" class=\"dataframe\">\n",
              "  <thead>\n",
              "    <tr style=\"text-align: right;\">\n",
              "      <th></th>\n",
              "      <th>Image</th>\n",
              "      <th>Label</th>\n",
              "    </tr>\n",
              "  </thead>\n",
              "  <tbody>\n",
              "    <tr>\n",
              "      <th>0</th>\n",
              "      <td>../input/jovian-pytorch-z2g/Human protein atlas/test/24117.png</td>\n",
              "      <td>0</td>\n",
              "    </tr>\n",
              "    <tr>\n",
              "      <th>1</th>\n",
              "      <td>../input/jovian-pytorch-z2g/Human protein atlas/test/15322.png</td>\n",
              "      <td>0</td>\n",
              "    </tr>\n",
              "    <tr>\n",
              "      <th>2</th>\n",
              "      <td>../input/jovian-pytorch-z2g/Human protein atlas/test/14546.png</td>\n",
              "      <td>0</td>\n",
              "    </tr>\n",
              "    <tr>\n",
              "      <th>3</th>\n",
              "      <td>../input/jovian-pytorch-z2g/Human protein atlas/test/8079.png</td>\n",
              "      <td>0</td>\n",
              "    </tr>\n",
              "    <tr>\n",
              "      <th>4</th>\n",
              "      <td>../input/jovian-pytorch-z2g/Human protein atlas/test/13192.png</td>\n",
              "      <td>0</td>\n",
              "    </tr>\n",
              "  </tbody>\n",
              "</table>\n",
              "</div>"
            ],
            "text/plain": [
              "                                                            Image  Label\n",
              "0  ../input/jovian-pytorch-z2g/Human protein atlas/test/24117.png      0\n",
              "1  ../input/jovian-pytorch-z2g/Human protein atlas/test/15322.png      0\n",
              "2  ../input/jovian-pytorch-z2g/Human protein atlas/test/14546.png      0\n",
              "3   ../input/jovian-pytorch-z2g/Human protein atlas/test/8079.png      0\n",
              "4  ../input/jovian-pytorch-z2g/Human protein atlas/test/13192.png      0"
            ]
          },
          "metadata": {
            "tags": []
          },
          "execution_count": 12
        }
      ]
    },
    {
      "cell_type": "markdown",
      "metadata": {
        "id": "6QWBL0LAnakd",
        "colab_type": "text"
      },
      "source": [
        "## Training"
      ]
    },
    {
      "cell_type": "markdown",
      "metadata": {
        "id": "uhsjrMsvoaxB",
        "colab_type": "text"
      },
      "source": [
        "I have used technique called mixup, its a data augmentation technique. \n",
        "\n",
        "In fastai Mixup is callback, and\n",
        "this Callback is used to apply MixUp data augmentation to your training.\n",
        "to know more read [this](http://dev.fast.ai/callback.mixup)"
      ]
    },
    {
      "cell_type": "markdown",
      "metadata": {
        "id": "mITOW6bopVKo",
        "colab_type": "text"
      },
      "source": [
        "I have tried this first time, but this technique didnot improve my result in this problem. It usually improves accuracy after 80 epochs but I have trained for 20 epoches. so there was no difference in accuracy without it. so you can ignore this. \n",
        "\n",
        "But to know about how mixup works is good, I will separate blog on this, so follow my twitter for updates."
      ]
    },
    {
      "cell_type": "code",
      "metadata": {
        "id": "gifJRHC6X6-e",
        "colab_type": "code",
        "colab": {}
      },
      "source": [
        "mixup = MixUp(0.3)"
      ],
      "execution_count": null,
      "outputs": []
    },
    {
      "cell_type": "markdown",
      "metadata": {
        "id": "jbw06R-_p9nu",
        "colab_type": "text"
      },
      "source": [
        "gc is for garbage collection"
      ]
    },
    {
      "cell_type": "code",
      "metadata": {
        "id": "GS-XH-D-X6-q",
        "colab_type": "code",
        "colab": {}
      },
      "source": [
        "import gc"
      ],
      "execution_count": null,
      "outputs": []
    },
    {
      "cell_type": "markdown",
      "metadata": {
        "id": "EhfzNPzmn_dS",
        "colab_type": "text"
      },
      "source": [
        "I have created 3 folds where I simply get the data from a particular fold, create a model, add metrics, I have used resnet34.\n",
        "And that's the whole training process. I just trained model on each fold and saved predictions for the test set."
      ]
    },
    {
      "cell_type": "markdown",
      "metadata": {
        "id": "4QRzeEPFqCZk",
        "colab_type": "text"
      },
      "source": [
        "I have used a technique called progressive resizing. \n",
        "\n",
        "this is very simple: start training using small images, and end training using large images. Spending most of the epochs training with small images, helps training complete much faster. Completing training using large images makes the final accuracy much higher. this approach is called progressive resizing.\n",
        "\n",
        "we should use the `fine_tune` method after we resize our images to get our model to learn to do something a little bit different from what it has learned to do before. "
      ]
    },
    {
      "cell_type": "markdown",
      "metadata": {
        "id": "imgRKDUrsodP",
        "colab_type": "text"
      },
      "source": [
        "I have used `cbs=EarlyStoppingCallback(monitor='valid_loss')` so that model doesnot overfit."
      ]
    },
    {
      "cell_type": "markdown",
      "metadata": {
        "id": "BBZfI1qGs3vr",
        "colab_type": "text"
      },
      "source": [
        "append all prediction to list so that we use it later.\n",
        "\n",
        "I have run the model for less epochs to see code works and show result, or stopped model in between(it took so much time)\n",
        "\n",
        "This method gave me F_score of `.77` and accuracy of `>91%` so you can try.\n",
        "\n",
        "My Purpose here is to write blog and explain how to approach and how code works."
      ]
    },
    {
      "cell_type": "markdown",
      "metadata": {
        "id": "pzgbIPsZt7DU",
        "colab_type": "text"
      },
      "source": [
        "If GPU is out of memory delete learner and empty cuda cache done in last line of code."
      ]
    },
    {
      "cell_type": "code",
      "metadata": {
        "id": "_wtC7dkUX6-w",
        "colab_type": "code",
        "colab": {
          "referenced_widgets": [
            "2edd311c64a5424e87cd92a782835659"
          ]
        },
        "outputId": "5950b1dc-f118-48b6-db0c-82db046bbf4e"
      },
      "source": [
        "all_preds = []\n",
        "\n",
        "for i in range(3):\n",
        "    dls = get_data(i,256,64)\n",
        "    learn = cnn_learner(dls, resnet34, metrics=[partial(accuracy_multi, thresh=0.2),partial(F_score, threshold=0.2)],cbs=mixup).to_fp16()\n",
        "    learn.fit_one_cycle(10, cbs=EarlyStoppingCallback(monitor='valid_loss'))\n",
        "    learn.dls = get_data(i,512,32)\n",
        "    learn.fine_tune(10,cbs=EarlyStoppingCallback(monitor='valid_loss'))\n",
        "    tst_dl = learn.dls.test_dl(tstpng)\n",
        "    preds, _ = learn.get_preds(dl=tst_dl)\n",
        "    all_preds.append(preds)\n",
        "    del learn\n",
        "    torch.cuda.empty_cache()\n",
        "    gc.collect()"
      ],
      "execution_count": null,
      "outputs": [
        {
          "output_type": "stream",
          "text": [
            "Downloading: \"https://download.pytorch.org/models/resnet34-333f7ec4.pth\" to /root/.cache/torch/checkpoints/resnet34-333f7ec4.pth\n"
          ],
          "name": "stderr"
        },
        {
          "output_type": "display_data",
          "data": {
            "application/vnd.jupyter.widget-view+json": {
              "model_id": "2edd311c64a5424e87cd92a782835659",
              "version_major": 2,
              "version_minor": 0
            },
            "text/plain": [
              "HBox(children=(FloatProgress(value=0.0, max=87306240.0), HTML(value='')))"
            ]
          },
          "metadata": {
            "tags": []
          }
        },
        {
          "output_type": "stream",
          "text": [
            "\n"
          ],
          "name": "stdout"
        },
        {
          "output_type": "display_data",
          "data": {
            "text/html": [
              "<table border=\"1\" class=\"dataframe\">\n",
              "  <thead>\n",
              "    <tr style=\"text-align: left;\">\n",
              "      <th>epoch</th>\n",
              "      <th>train_loss</th>\n",
              "      <th>valid_loss</th>\n",
              "      <th>accuracy_multi</th>\n",
              "      <th>F_score</th>\n",
              "      <th>time</th>\n",
              "    </tr>\n",
              "  </thead>\n",
              "  <tbody>\n",
              "    <tr>\n",
              "      <td>0</td>\n",
              "      <td>0.545962</td>\n",
              "      <td>0.344541</td>\n",
              "      <td>0.796662</td>\n",
              "      <td>0.325269</td>\n",
              "      <td>03:34</td>\n",
              "    </tr>\n",
              "  </tbody>\n",
              "</table>"
            ],
            "text/plain": [
              "<IPython.core.display.HTML object>"
            ]
          },
          "metadata": {
            "tags": []
          }
        },
        {
          "output_type": "display_data",
          "data": {
            "text/html": [
              "<table border=\"1\" class=\"dataframe\">\n",
              "  <thead>\n",
              "    <tr style=\"text-align: left;\">\n",
              "      <th>epoch</th>\n",
              "      <th>train_loss</th>\n",
              "      <th>valid_loss</th>\n",
              "      <th>accuracy_multi</th>\n",
              "      <th>F_score</th>\n",
              "      <th>time</th>\n",
              "    </tr>\n",
              "  </thead>\n",
              "  <tbody>\n",
              "    <tr>\n",
              "      <td>0</td>\n",
              "      <td>0.383005</td>\n",
              "      <td>0.320621</td>\n",
              "      <td>0.838335</td>\n",
              "      <td>0.343538</td>\n",
              "      <td>03:31</td>\n",
              "    </tr>\n",
              "    <tr>\n",
              "      <td>1</td>\n",
              "      <td>0.364457</td>\n",
              "      <td>0.307868</td>\n",
              "      <td>0.834389</td>\n",
              "      <td>0.395574</td>\n",
              "      <td>03:29</td>\n",
              "    </tr>\n",
              "    <tr>\n",
              "      <td>2</td>\n",
              "      <td>0.339153</td>\n",
              "      <td>0.288834</td>\n",
              "      <td>0.851154</td>\n",
              "      <td>0.424101</td>\n",
              "      <td>03:30</td>\n",
              "    </tr>\n",
              "    <tr>\n",
              "      <td>3</td>\n",
              "      <td>0.321231</td>\n",
              "      <td>0.276498</td>\n",
              "      <td>0.860605</td>\n",
              "      <td>0.500714</td>\n",
              "      <td>03:29</td>\n",
              "    </tr>\n",
              "    <tr>\n",
              "      <td>4</td>\n",
              "      <td>0.307015</td>\n",
              "      <td>0.262529</td>\n",
              "      <td>0.865237</td>\n",
              "      <td>0.526143</td>\n",
              "      <td>03:29</td>\n",
              "    </tr>\n",
              "    <tr>\n",
              "      <td>5</td>\n",
              "      <td>0.303211</td>\n",
              "      <td>0.252637</td>\n",
              "      <td>0.869339</td>\n",
              "      <td>0.542609</td>\n",
              "      <td>03:29</td>\n",
              "    </tr>\n",
              "    <tr>\n",
              "      <td>6</td>\n",
              "      <td>0.293627</td>\n",
              "      <td>0.246137</td>\n",
              "      <td>0.870898</td>\n",
              "      <td>0.557622</td>\n",
              "      <td>03:28</td>\n",
              "    </tr>\n",
              "    <tr>\n",
              "      <td>7</td>\n",
              "      <td>0.288911</td>\n",
              "      <td>0.240489</td>\n",
              "      <td>0.877324</td>\n",
              "      <td>0.567245</td>\n",
              "      <td>03:29</td>\n",
              "    </tr>\n",
              "    <tr>\n",
              "      <td>8</td>\n",
              "      <td>0.285248</td>\n",
              "      <td>0.237112</td>\n",
              "      <td>0.876575</td>\n",
              "      <td>0.589500</td>\n",
              "      <td>03:28</td>\n",
              "    </tr>\n",
              "    <tr>\n",
              "      <td>9</td>\n",
              "      <td>0.286031</td>\n",
              "      <td>0.236534</td>\n",
              "      <td>0.877339</td>\n",
              "      <td>0.590382</td>\n",
              "      <td>03:27</td>\n",
              "    </tr>\n",
              "  </tbody>\n",
              "</table>"
            ],
            "text/plain": [
              "<IPython.core.display.HTML object>"
            ]
          },
          "metadata": {
            "tags": []
          }
        },
        {
          "output_type": "display_data",
          "data": {
            "text/html": [
              "<table border=\"1\" class=\"dataframe\">\n",
              "  <thead>\n",
              "    <tr style=\"text-align: left;\">\n",
              "      <th>epoch</th>\n",
              "      <th>train_loss</th>\n",
              "      <th>valid_loss</th>\n",
              "      <th>accuracy_multi</th>\n",
              "      <th>F_score</th>\n",
              "      <th>time</th>\n",
              "    </tr>\n",
              "  </thead>\n",
              "  <tbody>\n",
              "    <tr>\n",
              "      <td>0</td>\n",
              "      <td>0.290949</td>\n",
              "      <td>0.315076</td>\n",
              "      <td>0.849766</td>\n",
              "      <td>0.462833</td>\n",
              "      <td>04:23</td>\n",
              "    </tr>\n",
              "    <tr>\n",
              "      <td>1</td>\n",
              "      <td>0.295474</td>\n",
              "      <td>0.320369</td>\n",
              "      <td>0.826154</td>\n",
              "      <td>0.472169</td>\n",
              "      <td>04:22</td>\n",
              "    </tr>\n",
              "  </tbody>\n",
              "</table>"
            ],
            "text/plain": [
              "<IPython.core.display.HTML object>"
            ]
          },
          "metadata": {
            "tags": []
          }
        },
        {
          "output_type": "stream",
          "text": [
            "No improvement since epoch 0: early stopping\n"
          ],
          "name": "stdout"
        },
        {
          "output_type": "display_data",
          "data": {
            "text/html": [
              ""
            ],
            "text/plain": [
              "<IPython.core.display.HTML object>"
            ]
          },
          "metadata": {
            "tags": []
          }
        },
        {
          "output_type": "display_data",
          "data": {
            "text/html": [
              "<table border=\"1\" class=\"dataframe\">\n",
              "  <thead>\n",
              "    <tr style=\"text-align: left;\">\n",
              "      <th>epoch</th>\n",
              "      <th>train_loss</th>\n",
              "      <th>valid_loss</th>\n",
              "      <th>accuracy_multi</th>\n",
              "      <th>F_score</th>\n",
              "      <th>time</th>\n",
              "    </tr>\n",
              "  </thead>\n",
              "  <tbody>\n",
              "    <tr>\n",
              "      <td>0</td>\n",
              "      <td>0.554367</td>\n",
              "      <td>0.340495</td>\n",
              "      <td>0.808827</td>\n",
              "      <td>0.318601</td>\n",
              "      <td>03:22</td>\n",
              "    </tr>\n",
              "  </tbody>\n",
              "</table>"
            ],
            "text/plain": [
              "<IPython.core.display.HTML object>"
            ]
          },
          "metadata": {
            "tags": []
          }
        },
        {
          "output_type": "display_data",
          "data": {
            "text/html": [
              "<table border=\"1\" class=\"dataframe\">\n",
              "  <thead>\n",
              "    <tr style=\"text-align: left;\">\n",
              "      <th>epoch</th>\n",
              "      <th>train_loss</th>\n",
              "      <th>valid_loss</th>\n",
              "      <th>accuracy_multi</th>\n",
              "      <th>F_score</th>\n",
              "      <th>time</th>\n",
              "    </tr>\n",
              "  </thead>\n",
              "  <tbody>\n",
              "    <tr>\n",
              "      <td>0</td>\n",
              "      <td>0.388593</td>\n",
              "      <td>0.319564</td>\n",
              "      <td>0.840362</td>\n",
              "      <td>0.331533</td>\n",
              "      <td>03:32</td>\n",
              "    </tr>\n",
              "    <tr>\n",
              "      <td>1</td>\n",
              "      <td>0.366437</td>\n",
              "      <td>0.307622</td>\n",
              "      <td>0.839379</td>\n",
              "      <td>0.363208</td>\n",
              "      <td>03:28</td>\n",
              "    </tr>\n",
              "    <tr>\n",
              "      <td>2</td>\n",
              "      <td>0.343576</td>\n",
              "      <td>0.290248</td>\n",
              "      <td>0.840876</td>\n",
              "      <td>0.402298</td>\n",
              "      <td>03:27</td>\n",
              "    </tr>\n",
              "    <tr>\n",
              "      <td>3</td>\n",
              "      <td>0.325350</td>\n",
              "      <td>0.281427</td>\n",
              "      <td>0.846164</td>\n",
              "      <td>0.467070</td>\n",
              "      <td>03:28</td>\n",
              "    </tr>\n",
              "    <tr>\n",
              "      <td>4</td>\n",
              "      <td>0.314482</td>\n",
              "      <td>0.266823</td>\n",
              "      <td>0.859451</td>\n",
              "      <td>0.469782</td>\n",
              "      <td>03:27</td>\n",
              "    </tr>\n",
              "    <tr>\n",
              "      <td>5</td>\n",
              "      <td>0.305747</td>\n",
              "      <td>0.257310</td>\n",
              "      <td>0.865830</td>\n",
              "      <td>0.517662</td>\n",
              "      <td>03:29</td>\n",
              "    </tr>\n",
              "    <tr>\n",
              "      <td>6</td>\n",
              "      <td>0.295284</td>\n",
              "      <td>0.248361</td>\n",
              "      <td>0.871881</td>\n",
              "      <td>0.546668</td>\n",
              "      <td>03:27</td>\n",
              "    </tr>\n",
              "    <tr>\n",
              "      <td>7</td>\n",
              "      <td>0.287226</td>\n",
              "      <td>0.242251</td>\n",
              "      <td>0.874298</td>\n",
              "      <td>0.563557</td>\n",
              "      <td>03:27</td>\n",
              "    </tr>\n",
              "    <tr>\n",
              "      <td>8</td>\n",
              "      <td>0.288487</td>\n",
              "      <td>0.239550</td>\n",
              "      <td>0.878041</td>\n",
              "      <td>0.570435</td>\n",
              "      <td>03:27</td>\n",
              "    </tr>\n",
              "    <tr>\n",
              "      <td>9</td>\n",
              "      <td>0.284914</td>\n",
              "      <td>0.238145</td>\n",
              "      <td>0.879196</td>\n",
              "      <td>0.570799</td>\n",
              "      <td>03:27</td>\n",
              "    </tr>\n",
              "  </tbody>\n",
              "</table>"
            ],
            "text/plain": [
              "<IPython.core.display.HTML object>"
            ]
          },
          "metadata": {
            "tags": []
          }
        },
        {
          "output_type": "display_data",
          "data": {
            "text/html": [
              "<table border=\"1\" class=\"dataframe\">\n",
              "  <thead>\n",
              "    <tr style=\"text-align: left;\">\n",
              "      <th>epoch</th>\n",
              "      <th>train_loss</th>\n",
              "      <th>valid_loss</th>\n",
              "      <th>accuracy_multi</th>\n",
              "      <th>F_score</th>\n",
              "      <th>time</th>\n",
              "    </tr>\n",
              "  </thead>\n",
              "  <tbody>\n",
              "    <tr>\n",
              "      <td>0</td>\n",
              "      <td>0.294379</td>\n",
              "      <td>0.344038</td>\n",
              "      <td>0.817124</td>\n",
              "      <td>0.550201</td>\n",
              "      <td>04:22</td>\n",
              "    </tr>\n",
              "    <tr>\n",
              "      <td>1</td>\n",
              "      <td>0.296755</td>\n",
              "      <td>0.330813</td>\n",
              "      <td>0.830053</td>\n",
              "      <td>0.424398</td>\n",
              "      <td>04:20</td>\n",
              "    </tr>\n",
              "    <tr>\n",
              "      <td>2</td>\n",
              "      <td>0.295352</td>\n",
              "      <td>0.260328</td>\n",
              "      <td>0.866110</td>\n",
              "      <td>0.477913</td>\n",
              "      <td>04:23</td>\n",
              "    </tr>\n",
              "    <tr>\n",
              "      <td>3</td>\n",
              "      <td>0.280896</td>\n",
              "      <td>0.259668</td>\n",
              "      <td>0.857954</td>\n",
              "      <td>0.598846</td>\n",
              "      <td>04:19</td>\n",
              "    </tr>\n",
              "    <tr>\n",
              "      <td>4</td>\n",
              "      <td>0.273494</td>\n",
              "      <td>0.218607</td>\n",
              "      <td>0.878868</td>\n",
              "      <td>0.645609</td>\n",
              "      <td>04:22</td>\n",
              "    </tr>\n",
              "    <tr>\n",
              "      <td>5</td>\n",
              "      <td>0.259204</td>\n",
              "      <td>0.200595</td>\n",
              "      <td>0.905396</td>\n",
              "      <td>0.653470</td>\n",
              "      <td>04:20</td>\n",
              "    </tr>\n",
              "    <tr>\n",
              "      <td>6</td>\n",
              "      <td>0.247184</td>\n",
              "      <td>0.209090</td>\n",
              "      <td>0.889878</td>\n",
              "      <td>0.687422</td>\n",
              "      <td>04:19</td>\n",
              "    </tr>\n",
              "  </tbody>\n",
              "</table>"
            ],
            "text/plain": [
              "<IPython.core.display.HTML object>"
            ]
          },
          "metadata": {
            "tags": []
          }
        },
        {
          "output_type": "stream",
          "text": [
            "No improvement since epoch 5: early stopping\n"
          ],
          "name": "stdout"
        },
        {
          "output_type": "display_data",
          "data": {
            "text/html": [
              ""
            ],
            "text/plain": [
              "<IPython.core.display.HTML object>"
            ]
          },
          "metadata": {
            "tags": []
          }
        },
        {
          "output_type": "display_data",
          "data": {
            "text/html": [
              "\n",
              "    <div>\n",
              "        <style>\n",
              "            /* Turns off some styling */\n",
              "            progress {\n",
              "                /* gets rid of default border in Firefox and Opera. */\n",
              "                border: none;\n",
              "                /* Needs to be in here for Safari polyfill so background images work as expected. */\n",
              "                background-size: auto;\n",
              "            }\n",
              "            .progress-bar-interrupted, .progress-bar-interrupted::-webkit-progress-bar {\n",
              "                background: #F44336;\n",
              "            }\n",
              "        </style>\n",
              "      <progress value='0' class='' max='1' style='width:300px; height:20px; vertical-align: middle;'></progress>\n",
              "      0.00% [0/1 00:00<00:00]\n",
              "    </div>\n",
              "    \n",
              "<table border=\"1\" class=\"dataframe\">\n",
              "  <thead>\n",
              "    <tr style=\"text-align: left;\">\n",
              "      <th>epoch</th>\n",
              "      <th>train_loss</th>\n",
              "      <th>valid_loss</th>\n",
              "      <th>accuracy_multi</th>\n",
              "      <th>F_score</th>\n",
              "      <th>time</th>\n",
              "    </tr>\n",
              "  </thead>\n",
              "  <tbody>\n",
              "  </tbody>\n",
              "</table><p>\n",
              "\n",
              "    <div>\n",
              "        <style>\n",
              "            /* Turns off some styling */\n",
              "            progress {\n",
              "                /* gets rid of default border in Firefox and Opera. */\n",
              "                border: none;\n",
              "                /* Needs to be in here for Safari polyfill so background images work as expected. */\n",
              "                background-size: auto;\n",
              "            }\n",
              "            .progress-bar-interrupted, .progress-bar-interrupted::-webkit-progress-bar {\n",
              "                background: #F44336;\n",
              "            }\n",
              "        </style>\n",
              "      <progress value='0' class='' max='200' style='width:300px; height:20px; vertical-align: middle;'></progress>\n",
              "      0.00% [0/200 00:00<00:00]\n",
              "    </div>\n",
              "    "
            ],
            "text/plain": [
              "<IPython.core.display.HTML object>"
            ]
          },
          "metadata": {
            "tags": []
          }
        }
      ]
    },
    {
      "cell_type": "markdown",
      "metadata": {
        "id": "_uK_X1dIuIKf",
        "colab_type": "text"
      },
      "source": [
        "stack all the prediction stored in list and average the values."
      ]
    },
    {
      "cell_type": "code",
      "metadata": {
        "id": "DaF--9LlX6-0",
        "colab_type": "code",
        "colab": {}
      },
      "source": [
        "subm = pd.read_csv(\"../input/jovian-pytorch-z2g/submission.csv\")\n",
        "preds = np.mean(np.stack(all_preds), axis=0)"
      ],
      "execution_count": null,
      "outputs": []
    },
    {
      "cell_type": "markdown",
      "metadata": {
        "id": "YpdB63UdufL3",
        "colab_type": "text"
      },
      "source": [
        "You should have list of labels which we get using vocab."
      ]
    },
    {
      "cell_type": "code",
      "metadata": {
        "id": "btoVObWZuUsP",
        "colab_type": "code",
        "colab": {}
      },
      "source": [
        "k = dls.vocab"
      ],
      "execution_count": null,
      "outputs": []
    },
    {
      "cell_type": "code",
      "metadata": {
        "id": "aYOhe2FkX6-7",
        "colab_type": "code",
        "colab": {},
        "outputId": "dcec188d-b244-435d-ab83-778987d05399"
      },
      "source": [
        "preds[0]"
      ],
      "execution_count": null,
      "outputs": [
        {
          "output_type": "execute_result",
          "data": {
            "text/plain": [
              "array([0.04565947, 0.08774102, 0.0536039 , 0.04304133, 0.9251135 ,\n",
              "       0.01606368, 0.15841891, 0.02610746, 0.09389433, 0.06638951],\n",
              "      dtype=float32)"
            ]
          },
          "metadata": {
            "tags": []
          },
          "execution_count": 17
        }
      ]
    },
    {
      "cell_type": "markdown",
      "metadata": {
        "id": "fldiyNwmuot9",
        "colab_type": "text"
      },
      "source": [
        "I found threshold of 0.2 works good for my code.\n",
        "\n",
        "then all the labels predicted above 0.2 are labels of that image using vocab. "
      ]
    },
    {
      "cell_type": "code",
      "metadata": {
        "id": "hkxKHPgXu8Tr",
        "colab_type": "code",
        "colab": {}
      },
      "source": [
        "thresh=0.2\n",
        "labelled_preds = [' '.join([k[i] for i,p in enumerate(pred) if p > thresh]) for pred in preds]"
      ],
      "execution_count": null,
      "outputs": []
    },
    {
      "cell_type": "markdown",
      "metadata": {
        "id": "Eo9tf6XjvAxC",
        "colab_type": "text"
      },
      "source": [
        "put them in Labels column"
      ]
    },
    {
      "cell_type": "code",
      "metadata": {
        "id": "tew_hyGZu_H7",
        "colab_type": "code",
        "colab": {}
      },
      "source": [
        "test_df['Label']=labelled_preds"
      ],
      "execution_count": null,
      "outputs": []
    },
    {
      "cell_type": "markdown",
      "metadata": {
        "id": "YP2Ic36qvIX0",
        "colab_type": "text"
      },
      "source": [
        "this step is to submit result to kaggle."
      ]
    },
    {
      "cell_type": "code",
      "metadata": {
        "id": "5e5royGfX6_K",
        "colab_type": "code",
        "colab": {}
      },
      "source": [
        "test_df.to_csv('submission.csv',index=False)"
      ],
      "execution_count": null,
      "outputs": []
    }
  ]
}